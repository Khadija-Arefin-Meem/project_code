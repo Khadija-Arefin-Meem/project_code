{
  "nbformat": 4,
  "nbformat_minor": 0,
  "metadata": {
    "colab": {
      "provenance": [],
      "authorship_tag": "ABX9TyOACpXwCilPX+dGiBa9f42y",
      "include_colab_link": true
    },
    "kernelspec": {
      "name": "python3",
      "display_name": "Python 3"
    },
    "language_info": {
      "name": "python"
    }
  },
  "cells": [
    {
      "cell_type": "markdown",
      "metadata": {
        "id": "view-in-github",
        "colab_type": "text"
      },
      "source": [
        "<a href=\"https://colab.research.google.com/github/Khadija-Arefin-Meem/project_code/blob/main/Meempi.ipynb\" target=\"_parent\"><img src=\"https://colab.research.google.com/assets/colab-badge.svg\" alt=\"Open In Colab\"/></a>"
      ]
    },
    {
      "cell_type": "code",
      "source": [],
      "metadata": {
        "id": "5hbv1HjhJgbI"
      },
      "execution_count": null,
      "outputs": []
    },
    {
      "cell_type": "code",
      "execution_count": null,
      "metadata": {
        "colab": {
          "base_uri": "https://localhost:8080/"
        },
        "id": "iYkOUV3fHrKf",
        "outputId": "588d633a-3f8d-410a-93d5-69d11277d6ad"
      },
      "outputs": [
        {
          "output_type": "stream",
          "name": "stdout",
          "text": [
            "--2024-11-07 14:59:59--  https://raw.githubusercontent.com/Khadija-Arefin-Meem/project_code/refs/heads/main/MeemMath.py\n",
            "Resolving raw.githubusercontent.com (raw.githubusercontent.com)... 185.199.108.133, 185.199.109.133, 185.199.110.133, ...\n",
            "Connecting to raw.githubusercontent.com (raw.githubusercontent.com)|185.199.108.133|:443... connected.\n",
            "HTTP request sent, awaiting response... 200 OK\n",
            "Length: 241 [text/plain]\n",
            "Saving to: ‘MeemMath.py.3’\n",
            "\n",
            "\rMeemMath.py.3         0%[                    ]       0  --.-KB/s               \rMeemMath.py.3       100%[===================>]     241  --.-KB/s    in 0s      \n",
            "\n",
            "2024-11-07 14:59:59 (7.91 MB/s) - ‘MeemMath.py.3’ saved [241/241]\n",
            "\n",
            "Enter Digit:300\n",
            "3.141592653589793238462643383279502884197169399375105820974944592307816406286208998628034825342117067982148086513282306647093844609550582231725359408128481117450284102701938521105559644622948954930381964428810975665933446128475648233786783165271201909145648566923460348610454326648213393607260249141274\n"
          ]
        }
      ],
      "source": [
        "import sys\n",
        "\n",
        "!wget https://raw.githubusercontent.com/Khadija-Arefin-Meem/project_code/refs/heads/main/MeemMath.py\n",
        "\n",
        "sys.path.append('/content')\n",
        "\n",
        "from MeemMath import printBigpi\n",
        "\n",
        "n=int(input(\"Enter Digit:\"))\n",
        "print(printBigpi(n))"
      ]
    }
  ]
}